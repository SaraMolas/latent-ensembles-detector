{
 "cells": [
  {
   "cell_type": "markdown",
   "id": "3b3e536a",
   "metadata": {},
   "source": [
    "## Demonstration of how to apply the latent_ensemble_detector on a neural dataset\n",
    "\n",
    "Welcome! This notebook demonstrates how to use latent_ensembles_detector to detect neural ensembles with FastICA on a simple, controlled dataset.\n",
    "\n",
    "We'll use a synthetic dataset: 100 simulated place cells recorded while an animal runs on a 1-meter linear track, with some overlapping place fields, \n",
    "generated with my companion repo place-cells-simulations (so everything is reproducible and we know the ground truth)."
   ]
  },
  {
   "cell_type": "code",
   "execution_count": null,
   "id": "bd90c834",
   "metadata": {},
   "outputs": [],
   "source": [
    "import latent_ensembles_detector as led\n",
    "import json"
   ]
  },
  {
   "cell_type": "code",
   "execution_count": null,
   "id": "4c5e50ce",
   "metadata": {},
   "outputs": [],
   "source": [
    "# Load data \n",
    "loaded_data = led.load_data(\"../data/experiment_data.npz\")\n",
    "#print(data.files)\n",
    "data = loaded_data[0]\n",
    "spikes = data['spikes']  # shape (n_neurons, n_timepoints)\n",
    "time = data['time']   # shape (n_timepoints,)\n",
    "pos = data['pos']  # shape (n_timepoints,)\n",
    "metadata = json.loads(data['meta'].item())  # dictionary with metadata"
   ]
  },
  {
   "cell_type": "code",
   "execution_count": null,
   "id": "95220cb6",
   "metadata": {},
   "outputs": [],
   "source": [
    "# OPTION 1: Run this cell if you DO NOT have a spike matrix yet.\n",
    "# It takes the spike timepoints and the neuron IDs (aka clusters) and converts them into a binned spike matrix.\n",
    "\n",
    "\"\"\"\n",
    "# Define experimental parameters\n",
    "start_time = 0  # in seconds\n",
    "end_time = 600  # in seconds\n",
    "sampling_rate = 30000  # in Hz\n",
    "\n",
    "spike_matrix, _ =  led.compute_spike_matrix (spikeTimes = spike_times, spikeClusters = spike_clusters, time = time, start_time = start_time,  end_time = end_time, sampling_rate = sampling_rate)\n",
    "\n",
    "\"\"\""
   ]
  },
  {
   "cell_type": "code",
   "execution_count": null,
   "id": "5f614790",
   "metadata": {},
   "outputs": [],
   "source": [
    "# OPTION 2: Run this cell if you ALREADY have a spike matrix, but need to re-bin it to a different time resolution.\n",
    "# The original paper recommends time bins of 25 ms. \n",
    "\n",
    "spike_matrix = led.rebin_spikes(spike_matrix = spikes, old_dt = metadata[\"dt\"], new_dt = 0.025)\n",
    "\n",
    "print(spike_matrix.shape)  # shape (n_neurons, n_time_bins)"
   ]
  },
  {
   "cell_type": "code",
   "execution_count": null,
   "id": "cf5cd6be",
   "metadata": {},
   "outputs": [],
   "source": [
    "# Find neural ensembles and principal neurons in each ensemble\n",
    "\n",
    "n_ensembles =  led.estimate_ensembles_number(spike_matrix = spike_matrix)\n",
    "    \n",
    "weights, _ =  led.perform_fastICA(n_ensembles = n_ensembles, spike_matrix = spike_matrix)\n",
    "\n",
    "principalCells = led.find_principal_neurons (weights = weights)\n",
    "\n",
    "print(principalCells)"
   ]
  },
  {
   "cell_type": "code",
   "execution_count": null,
   "id": "95d43071",
   "metadata": {},
   "outputs": [],
   "source": [
    "# Plot heatmap of principal cells\n",
    "led.plot_principal_cells_heatmap(principal_cells = principalCells, save_path = \"results/principal_cells_heatmap.png\")"
   ]
  },
  {
   "cell_type": "code",
   "execution_count": null,
   "id": "64ecae6f",
   "metadata": {},
   "outputs": [],
   "source": [
    "# Save results\n",
    "led.save_data(\"results/spike_matrix.npy\", spike_matrix)\n",
    "led.save_data(\"results/weights.npy\", weights)\n",
    "led.save_data(\"results/principal_cells.json\", principalCells)"
   ]
  }
 ],
 "metadata": {
  "kernelspec": {
   "display_name": ".venv",
   "language": "python",
   "name": "python3"
  },
  "language_info": {
   "codemirror_mode": {
    "name": "ipython",
    "version": 3
   },
   "file_extension": ".py",
   "mimetype": "text/x-python",
   "name": "python",
   "nbconvert_exporter": "python",
   "pygments_lexer": "ipython3",
   "version": "3.10.6"
  }
 },
 "nbformat": 4,
 "nbformat_minor": 5
}
